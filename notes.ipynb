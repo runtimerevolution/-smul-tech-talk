{
 "metadata": {
  "language_info": {
   "codemirror_mode": {
    "name": "ipython",
    "version": 3
   },
   "file_extension": ".py",
   "mimetype": "text/x-python",
   "name": "python",
   "nbconvert_exporter": "python",
   "pygments_lexer": "ipython3",
   "version": "3.9.0-final"
  },
  "orig_nbformat": 2,
  "kernelspec": {
   "name": "python3",
   "display_name": "Python 3.9.0 64-bit ('venv': venv)",
   "metadata": {
    "interpreter": {
     "hash": "f6b33e628e4cac9876cee9311eeae46694517a2d38d2e77bc89bb036762858e6"
    }
   }
  }
 },
 "nbformat": 4,
 "nbformat_minor": 2,
 "cells": [
  {
   "source": [
    "# Smul Notes"
   ],
   "cell_type": "markdown",
   "metadata": {}
  },
  {
   "source": [
    "\n",
    "0 1 2 3 4 5 6 7 8 9 10 11 12 13 14 15 16 17 18 19 20 21 22 23 24 25 26 27 28 29 30 31 32 33 34 35 36\n",
    "\n",
    "```txt\n",
    "8 o'clock + 9 = 17 o'clock\n",
    "17 mod 12 = 5\n",
    "```"
   ],
   "cell_type": "markdown",
   "metadata": {}
  },
  {
   "cell_type": "code",
   "execution_count": null,
   "metadata": {},
   "outputs": [],
   "source": [
    "for i in range(0, 24):\n",
    "    if i % 12 == 0:\n",
    "        print()\n",
    "    print(f\"{i:>2} / 12 = {i//12} R {i % 12}\")"
   ]
  },
  {
   "source": [
    "## Encoding"
   ],
   "cell_type": "markdown",
   "metadata": {}
  },
  {
   "cell_type": "code",
   "execution_count": null,
   "metadata": {},
   "outputs": [],
   "source": [
    "import string\n",
    "\n",
    "CHARSET = \"ABC\"\n",
    "# CHARSET = \"0123456789\"\n",
    "CHARSET = \"0123456789abcdef\"\n",
    "CHARSET = \"123456789abc\"\n",
    "BASE = len(CHARSET)\n",
    "\n",
    "def encode0(number):\n",
    "    if number < 1: return CHARSET[0]\n",
    "    code = \"\"\n",
    "    while number > 0:\n",
    "        number, remainder = divmod(number, BASE)\n",
    "        code = CHARSET[remainder-1] + code\n",
    "    return code\n",
    "\n",
    "def encode1(number):\n",
    "    code = \"\"\n",
    "    while number > 0:\n",
    "        number, remainder = divmod(number - 1, BASE)\n",
    "        code = CHARSET[remainder] + code\n",
    "    return code\n",
    "\n",
    "print(f\"{'A=0':>4} {'':>8} {'A=1'}\\n\")\n",
    "for x in range(1, 24):\n",
    "    print(f\"{x:<3} {encode0(x):<8} {x:<3} {encode1(x):3}\")"
   ]
  },
  {
   "source": [
    "## Hash function collisions\n",
    "\n",
    "Theses two strings colide when hashed with the MD5 hash function.\n",
    "\n",
    "String 1\n",
    "\n",
    "`4dc968ff0ee35c209572d4777b721587d36fa7b21bdc56b74a3dc0783e7b9518afbfa20 2 a8284bf36e8e4b55b35f427593d849676da0d1 d 55d8360fb5f07fea2`\n",
    "\n",
    "String 2\n",
    "\n",
    "`4dc968ff0ee35c209572d4777b721587d36fa7b21bdc56b74a3dc0783e7b9518afbfa20 0 a8284bf36e8e4b55b35f427593d849676da0d1 5 55d8360fb5f07fea2`\n"
   ],
   "cell_type": "markdown",
   "metadata": {}
  },
  {
   "cell_type": "code",
   "execution_count": null,
   "metadata": {},
   "outputs": [],
   "source": [
    "import hashlib\n",
    "\n",
    "\n",
    "def md5(x):\n",
    "    return hashlib.md5(bytearray.fromhex(x)).hexdigest()\n",
    "\n",
    "p1 = \"4dc968ff0ee35c209572d4777b721587d36fa7b21bdc56b74a3dc0783e7b9518afbfa20\"\n",
    "p2 = \"a8284bf36e8e4b55b35f427593d849676da0d1\"\n",
    "p3 = \"55d8360fb5f07fea2\"\n",
    "\n",
    "s1 = p1 + \"2\" + p2 + \"d\" + p3\n",
    "s2 = p1 + \"0\" + p2 + \"5\" + p3\n",
    "\n",
    "md5s1 = md5(s1)\n",
    "md5s2 = md5(s2)\n",
    "\n",
    "print(f\"Are the initial strings the same? {'Yes' if s1 == s2 else 'No'}\\n\")\n",
    "print(f'String 1 MD5 hash: \"{md5s1}\"')\n",
    "print(f'String 2 MD5 hash: \"{md5s2}\"\\n')\n",
    "print(f\"Are the MD5 hashs the same? {'Yes' if md5s1 == md5s2 else 'No'}\\n\")\n"
   ]
  }
 ]
}